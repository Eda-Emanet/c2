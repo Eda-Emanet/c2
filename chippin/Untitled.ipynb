{
 "cells": [
  {
   "cell_type": "code",
   "execution_count": null,
   "id": "dfe7eca9-1762-4172-896a-b132012f8b84",
   "metadata": {},
   "outputs": [],
   "source": [
    "\n",
    "from data_processor import DataProcessor\n",
    "\n",
    "# CSV dosyalarınızın yolunu belirtin\n",
    "best_csv = \"data/best_customers.csv\"\n",
    "cust_csv = \"data/customers.csv\"\n",
    "trx_csv = \"data/transactions.csv\"\n",
    "\n",
    "# DataProcessor sınıfından bir örnek oluşturun\n",
    "dp = DataProcessor(best_path=best_csv, cust_path=cust_csv, trx_path=trx_csv)\n",
    "\n",
    "# Veri işleme adımlarını sırayla çalıştırın\n",
    "dp.process_data()\n",
    "\n",
    "# İşlenmiş RFM verilerini alın\n",
    "rfm_df = dp.get_rfm_data()\n",
    "print(\"RFM verisinin ilk satırları:\")\n",
    "print(rfm_df.head())\n",
    "\n",
    "# İsteğe bağlı: Grafik gösterimleri\n",
    "dp.plot_gender_distribution()\n",
    "dp.plot_birth_date_status()"
   ]
  }
 ],
 "metadata": {
  "kernelspec": {
   "display_name": "Python 3 (ipykernel)",
   "language": "python",
   "name": "python3"
  },
  "language_info": {
   "codemirror_mode": {
    "name": "ipython",
    "version": 3
   },
   "file_extension": ".py",
   "mimetype": "text/x-python",
   "name": "python",
   "nbconvert_exporter": "python",
   "pygments_lexer": "ipython3",
   "version": "3.9.12"
  }
 },
 "nbformat": 4,
 "nbformat_minor": 5
}
