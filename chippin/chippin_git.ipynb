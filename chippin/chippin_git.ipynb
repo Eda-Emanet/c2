{
 "cells": [
  {
   "cell_type": "code",
   "execution_count": 1,
   "id": "b7deaead-d0fe-48a6-ac4d-464656347094",
   "metadata": {},
   "outputs": [],
   "source": [
    "import pandas as pd \n",
    "import numpy as np\n",
    "from sklearn.cluster import KMeans\n",
    "from scipy.stats import kstest\n",
    "import plotly.express as px\n",
    "import plotly.graph_objects as go\n",
    "import openpyxl\n",
    "from datetime import datetime\n",
    "from sklearn.model_selection import train_test_split\n",
    "from sklearn.ensemble import RandomForestRegressor\n",
    "from sklearn.metrics import mean_squared_error, r2_score\n",
    "from sklearn.preprocessing import StandardScaler\n",
    "import matplotlib.pyplot as plt\n",
    "import seaborn as sns\n",
    "import warnings\n",
    "warnings.filterwarnings(\"ignore\")\n",
    "from sklearn.model_selection import train_test_split\n",
    "from sklearn.preprocessing import StandardScaler\n",
    "import seaborn as sns\n",
    "import matplotlib.pyplot as plt\n",
    "from sklearn.ensemble import RandomForestClassifier\n",
    "from sklearn.metrics import confusion_matrix\n",
    "from sklearn.metrics import classification_report, accuracy_score\n",
    "from sklearn.pipeline import Pipeline\n",
    "from sklearn.metrics import make_scorer, f1_score\n",
    "from sklearn.preprocessing import RobustScaler\n",
    "from imblearn.over_sampling import SMOTE\n",
    "import time \n",
    "from sklearn.svm import SVC\n",
    "from sklearn.tree import DecisionTreeClassifier  \n",
    "from sklearn.ensemble import AdaBoostClassifier \n",
    "from sklearn.ensemble import GradientBoostingClassifier\n",
    "from sklearn.neighbors import KNeighborsClassifier \n",
    "from sklearn.linear_model import LogisticRegression\n",
    "from xgboost import XGBClassifier\n",
    "from lightgbm import LGBMClassifier\n",
    "from sklearn.metrics import precision_score\n",
    "from sklearn.metrics import recall_score, f1_score\n",
    "from sklearn.metrics import roc_auc_score\n",
    "from sklearn.model_selection import cross_val_score\n",
    "from sklearn.preprocessing import MinMaxScaler\n",
    "\n",
    "SEED = 42\n",
    "\n"
   ]
  },
  {
   "cell_type": "code",
   "execution_count": 2,
   "id": "4dec89c2-a1b6-458d-b88f-5942b80282d1",
   "metadata": {},
   "outputs": [],
   "source": [
    "best = pd.read_csv('C:/Users/eddem/chippin/cust_best_sample.csv') \n",
    "cust = pd.read_csv('C:/Users/eddem/Chippin/cust_sample.csv') \n",
    "trx = pd.read_csv('C:/Users/eddem/Chippin/trx_sample.csv') "
   ]
  },
  {
   "cell_type": "code",
   "execution_count": 3,
   "id": "491b596b-13e3-4def-8a21-ce3f58af2dcd",
   "metadata": {},
   "outputs": [
    {
     "data": {
      "text/html": [
       "<div>\n",
       "<style scoped>\n",
       "    .dataframe tbody tr th:only-of-type {\n",
       "        vertical-align: middle;\n",
       "    }\n",
       "\n",
       "    .dataframe tbody tr th {\n",
       "        vertical-align: top;\n",
       "    }\n",
       "\n",
       "    .dataframe thead th {\n",
       "        text-align: right;\n",
       "    }\n",
       "</style>\n",
       "<table border=\"1\" class=\"dataframe\">\n",
       "  <thead>\n",
       "    <tr style=\"text-align: right;\">\n",
       "      <th></th>\n",
       "      <th>cb_customer_id</th>\n",
       "      <th>transaction_date</th>\n",
       "      <th>amount_after_discount</th>\n",
       "      <th>cb_branch_id</th>\n",
       "      <th>amount_before_discount</th>\n",
       "      <th>amount_discount</th>\n",
       "      <th>unique_customer_id</th>\n",
       "      <th>gender</th>\n",
       "      <th>date_of_birth</th>\n",
       "    </tr>\n",
       "  </thead>\n",
       "  <tbody>\n",
       "    <tr>\n",
       "      <th>0</th>\n",
       "      <td>6821860387409851780</td>\n",
       "      <td>2016-07-26</td>\n",
       "      <td>-0.327119</td>\n",
       "      <td>90</td>\n",
       "      <td>-0.411608</td>\n",
       "      <td>-0.443104</td>\n",
       "      <td>14833856522183602191</td>\n",
       "      <td>UNKNOWN</td>\n",
       "      <td>NaN</td>\n",
       "    </tr>\n",
       "    <tr>\n",
       "      <th>1</th>\n",
       "      <td>6821860387409851780</td>\n",
       "      <td>2016-08-02</td>\n",
       "      <td>-0.327119</td>\n",
       "      <td>90</td>\n",
       "      <td>-0.411608</td>\n",
       "      <td>-0.443104</td>\n",
       "      <td>14833856522183602191</td>\n",
       "      <td>UNKNOWN</td>\n",
       "      <td>NaN</td>\n",
       "    </tr>\n",
       "    <tr>\n",
       "      <th>2</th>\n",
       "      <td>3372770238413923649</td>\n",
       "      <td>2016-06-20</td>\n",
       "      <td>-0.389015</td>\n",
       "      <td>26</td>\n",
       "      <td>-0.331083</td>\n",
       "      <td>-0.281383</td>\n",
       "      <td>219680563978627406</td>\n",
       "      <td>UNKNOWN</td>\n",
       "      <td>NaN</td>\n",
       "    </tr>\n",
       "    <tr>\n",
       "      <th>3</th>\n",
       "      <td>3220055865641973068</td>\n",
       "      <td>2016-06-15</td>\n",
       "      <td>-0.344771</td>\n",
       "      <td>90</td>\n",
       "      <td>-0.447712</td>\n",
       "      <td>-0.488551</td>\n",
       "      <td>13102778631438780637</td>\n",
       "      <td>UNKNOWN</td>\n",
       "      <td>NaN</td>\n",
       "    </tr>\n",
       "    <tr>\n",
       "      <th>4</th>\n",
       "      <td>1603206957613929399</td>\n",
       "      <td>2016-06-20</td>\n",
       "      <td>-1.139010</td>\n",
       "      <td>33</td>\n",
       "      <td>-1.580552</td>\n",
       "      <td>-1.771293</td>\n",
       "      <td>13698985552782800647</td>\n",
       "      <td>UNKNOWN</td>\n",
       "      <td>NaN</td>\n",
       "    </tr>\n",
       "  </tbody>\n",
       "</table>\n",
       "</div>"
      ],
      "text/plain": [
       "        cb_customer_id transaction_date  amount_after_discount  cb_branch_id  \\\n",
       "0  6821860387409851780       2016-07-26              -0.327119            90   \n",
       "1  6821860387409851780       2016-08-02              -0.327119            90   \n",
       "2  3372770238413923649       2016-06-20              -0.389015            26   \n",
       "3  3220055865641973068       2016-06-15              -0.344771            90   \n",
       "4  1603206957613929399       2016-06-20              -1.139010            33   \n",
       "\n",
       "   amount_before_discount  amount_discount    unique_customer_id   gender  \\\n",
       "0               -0.411608        -0.443104  14833856522183602191  UNKNOWN   \n",
       "1               -0.411608        -0.443104  14833856522183602191  UNKNOWN   \n",
       "2               -0.331083        -0.281383    219680563978627406  UNKNOWN   \n",
       "3               -0.447712        -0.488551  13102778631438780637  UNKNOWN   \n",
       "4               -1.580552        -1.771293  13698985552782800647  UNKNOWN   \n",
       "\n",
       "  date_of_birth  \n",
       "0           NaN  \n",
       "1           NaN  \n",
       "2           NaN  \n",
       "3           NaN  \n",
       "4           NaN  "
      ]
     },
     "execution_count": 3,
     "metadata": {},
     "output_type": "execute_result"
    }
   ],
   "source": [
    "merged_trx = pd.merge(trx, cust, on='cb_customer_id', how='inner')\n",
    "df = pd.merge(merged_trx, best, on='unique_customer_id', how='left')\n",
    "df.drop_duplicates(inplace=True)\n",
    "df_copy = df.copy()\n",
    "df_copy.head()"
   ]
  },
  {
   "cell_type": "code",
   "execution_count": 4,
   "id": "4ab3ecc2-5613-4911-bbc2-aa5868cedebc",
   "metadata": {},
   "outputs": [],
   "source": [
    "# UNKNOWN tanımlı satırları na olarak atadım.\n",
    "df_copy['gender'] = df_copy['gender'].replace('UNKNOWN', np.nan)\n",
    "df_copy.drop(columns=['date_of_birth',\"gender\"], inplace=True)"
   ]
  },
  {
   "cell_type": "code",
   "execution_count": 10,
   "id": "4546e8b8-8523-48ad-8250-61b15394cb70",
   "metadata": {},
   "outputs": [
    {
     "name": "stdout",
     "output_type": "stream",
     "text": [
      "#### NULL değerler  ###\n",
      "cb_customer_id                 0\n",
      "transaction_date               0\n",
      "amount_after_discount          0\n",
      "cb_branch_id                   0\n",
      "amount_before_discount         0\n",
      "amount_discount                0\n",
      "unique_customer_id             0\n",
      "gender                    148465\n",
      "date_of_birth             149917\n",
      "dtype: int64\n"
     ]
    }
   ],
   "source": [
    "print(\"#### NULL değerler  ###\")\n",
    "print(df_copy.isnull().sum())  "
   ]
  },
  {
   "cell_type": "code",
   "execution_count": 6,
   "id": "adbe5a2f-612d-4bd4-b365-3b455a0a749a",
   "metadata": {
    "tags": []
   },
   "outputs": [],
   "source": [
    "# Data tipini tarih olarak düzeltim\n",
    "df_copy['transaction_date'] = pd.to_datetime(df_copy['transaction_date'])\n"
   ]
  },
  {
   "cell_type": "markdown",
   "id": "2726184b-5452-498b-a183-7e221fc278fb",
   "metadata": {
    "jupyter": {
     "source_hidden": true
    },
    "tags": []
   },
   "source": [
    "# Feature Engineering"
   ]
  },
  {
   "cell_type": "code",
   "execution_count": 7,
   "id": "00716439-a7b4-4296-b0ec-8f165d01f15e",
   "metadata": {},
   "outputs": [],
   "source": [
    "# uğradıkları şube sayısının eklenmesi:\n",
    "df_copy['branch_count'] = df_copy.groupby('unique_customer_id')['cb_branch_id'].transform('nunique')\n",
    "# indirimlerin toplanması\n",
    "df_copy['discount_sum'] = df_copy.groupby('unique_customer_id')['amount_discount'].transform('sum')\n",
    "# indirim öncesi harcamalarının toplanması\n",
    "df_copy['Monetary_beforeDis'] = df_copy.groupby('unique_customer_id')['amount_before_discount'].transform('sum')"
   ]
  },
  {
   "cell_type": "markdown",
   "id": "00045e93-a180-41f0-8c7c-cc8444024f03",
   "metadata": {
    "tags": []
   },
   "source": [
    "## RFM / Değişken Üretme\n"
   ]
  },
  {
   "cell_type": "code",
   "execution_count": 8,
   "id": "519e38ac-cfd7-4545-bd4b-d61293e84531",
   "metadata": {},
   "outputs": [],
   "source": [
    "# Datasetindeki maksimum tarihi almak için yaptım.\n",
    "max_date = df_copy['transaction_date'].max() \n",
    "\n",
    "# Recency icin;\n",
    "rfm_data = df_copy.groupby('unique_customer_id').agg({\n",
    "    'transaction_date': lambda x: x.max(), \n",
    "})\n",
    "\n",
    "rfm_data['Recency'] = (max_date - rfm_data['transaction_date']).dt.days\n",
    "rfm_data.drop(columns='transaction_date', inplace=True)\n",
    "\n",
    "# Frequency icin:\n",
    "freq_data = df_copy.groupby('unique_customer_id').agg({\n",
    "    'transaction_date': 'count'\n",
    "}).rename(columns={'transaction_date': 'Frequency'})\n",
    "\n",
    "# Monetary icin:\n",
    "mon_data = df_copy.groupby('unique_customer_id').agg({\n",
    "    'amount_after_discount': 'sum'\n",
    "}).rename(columns={'amount_after_discount': 'Monetary'})\n",
    "\n",
    "# Joinleme\n",
    "rfm = rfm_data.join(freq_data).join(mon_data)\n",
    "\n",
    "##### Skorları Atamak İcin;\n",
    "## Recency Skoru icin;\n",
    "rfm['R_Score'] = pd.qcut(rfm['Recency'], 5, labels=[5,4,3,2,1])\n",
    "## Frequency Skoru İcin;\n",
    "bins = [0, 1, 2, 3, 5, np.inf]\n",
    "labels = [1, 2, 3, 4, 5]\n",
    "rfm['F_Score'] = pd.cut(rfm['Frequency'], bins=bins, labels=labels)\n",
    "## Monetary Skoru İcin;\n",
    "rfm['M_Score'] = pd.qcut(rfm['Monetary'], 5, labels=[1,2,3,4,5])\n",
    "\n",
    "## Skorların birlestirilmesi\n",
    "rfm['RF_Score'] = rfm['R_Score'].astype(str) + \\\n",
    "                   rfm['F_Score'].astype(str) \n",
    "\n",
    "## Skorlara uydun segmentleri atamak icin;\n",
    "seg_map = {\n",
    "    r'[1-2][1-2]': 'Churn',\n",
    "    r'[1-2][3-4]': 'at_Risk',\n",
    "    r'[1-2]5': 'cant_loose',\n",
    "    r'3[1-2]': 'about_to_sleep',\n",
    "    r'33': 'need_attention',\n",
    "    r'[3-4][4-5]': 'loyal_customers',\n",
    "    r'41': 'promising',\n",
    "    r'51': 'new_customers',\n",
    "    r'[4-5][2-3]': 'potential_loyalists',\n",
    "    r'5[4-5]': 'champions'\n",
    "}\n",
    "\n",
    "rfm['RF_segment'] = rfm['RF_Score'].replace(seg_map, regex=True)\n"
   ]
  },
  {
   "cell_type": "code",
   "execution_count": 9,
   "id": "8241a9a0-3995-424e-b152-5e2e5afaba1c",
   "metadata": {},
   "outputs": [],
   "source": [
    "# rfm ve df_copy birleştirmek icin;\n",
    "data = pd.merge(df_copy, rfm, on='unique_customer_id', how='left')\n"
   ]
  },
  {
   "cell_type": "code",
   "execution_count": 10,
   "id": "9b303b3c-dc3a-4fa4-8cdc-7f90114122f8",
   "metadata": {},
   "outputs": [],
   "source": [
    "# Modellerde denemek icin ürettigim diger degiskenler\n",
    "data['avg_amount_spent'] = data['Monetary'] / data['Frequency']\n",
    "data['avg_discount'] = data['discount_sum'] / data['Frequency']\n",
    "data[\"discount_rate\"] = data['discount_sum'] / data['Monetary_beforeDis']\n",
    "data[\"discount_per_branch\"]  =  data['discount_sum']/  data['branch_count']\n",
    "data[\"Monetary_branch\"]  =  data['discount_sum']/  data['branch_count']\n",
    "data['branch_discount_interaction'] = data['branch_count'] * data['discount_rate']\n",
    "data['spend_ratio'] = data['Monetary'] / data['Monetary_beforeDis']\n",
    "data['discount_impact'] = 1 - data['spend_ratio']"
   ]
  },
  {
   "cell_type": "markdown",
   "id": "f1a8bda4-7627-434a-8d94-816d9dd5026a",
   "metadata": {},
   "source": [
    "# Churn modeli"
   ]
  },
  {
   "cell_type": "code",
   "execution_count": 11,
   "id": "43eb65c0-8bba-4a31-a2c2-618e89cc5db1",
   "metadata": {},
   "outputs": [],
   "source": [
    "# RF segmentindeki Churn olanlar  hedef değişkene atanmıştır. \n",
    "data['churn_flag'] = np.where(data['RF_segment'] == \"Churn\", 1, 0)\n",
    "\n",
    "# Gereksiz kolonları atmak için.\n",
    "data_new = data[['branch_count','discount_sum',  'Recency','Frequency', ## Recency ve Frequecy CLV predictionda kullanılacaktır.\n",
    "                  \"unique_customer_id\", \"discount_rate\",\"discount_per_branch\",\n",
    "                  'Monetary_beforeDis','Monetary','avg_amount_spent','avg_discount', 'churn_flag',\n",
    "                    \"Monetary_branch\", 'branch_discount_interaction','spend_ratio','discount_impact']]\n",
    "data_new.drop_duplicates(inplace=True)"
   ]
  },
  {
   "cell_type": "code",
   "execution_count": 12,
   "id": "28119e43-5e67-4e03-a32a-2c4e76787024",
   "metadata": {},
   "outputs": [],
   "source": [
    "# recency ve frequency data sızıntısı olmaması için çıkarılmıştır.\n",
    "\n",
    "x = data_new[[  'branch_count','discount_sum',\"unique_customer_id\",  \"discount_rate\",\"discount_per_branch\",\n",
    "         'Monetary_beforeDis','Monetary' ,'avg_amount_spent','avg_discount','branch_discount_interaction',\n",
    "         'spend_ratio','discount_impact'\n",
    "]]\n",
    "\n",
    "y = data_new[['churn_flag']]\n",
    "\n",
    "x.drop_duplicates(inplace=True)"
   ]
  },
  {
   "cell_type": "code",
   "execution_count": 13,
   "id": "f8ce45ab-6c91-4616-a2d3-2d92068d0d27",
   "metadata": {},
   "outputs": [
    {
     "name": "stdout",
     "output_type": "stream",
     "text": [
      "Train set sınıf dağılımı:\n",
      " churn_flag\n",
      "0             65659\n",
      "1             40800\n",
      "dtype: int64\n",
      "\n",
      "Test set sınıf dağılımı:\n",
      " churn_flag\n",
      "0             16415\n",
      "1             10200\n",
      "dtype: int64\n"
     ]
    }
   ],
   "source": [
    "from sklearn.model_selection import train_test_split\n",
    "\n",
    "x_train, x_test, y_train, y_test = train_test_split(\n",
    "    x, y, test_size=0.2, random_state=SEED, stratify=y, \n",
    "    shuffle=True\n",
    ")\n",
    "\n",
    "print(\"Train set sınıf dağılımı:\\n\", y_train.value_counts())\n",
    "print(\"\\nTest set sınıf dağılımı:\\n\", y_test.value_counts())\n"
   ]
  },
  {
   "cell_type": "code",
   "execution_count": 14,
   "id": "1a5dc367-dd3e-4149-a48f-bee9a5ab5541",
   "metadata": {},
   "outputs": [],
   "source": [
    "Train_val = pd.concat([x_train,  y_train], axis=1)\n",
    "val =  pd.concat([x_test,  y_test], axis=1)"
   ]
  },
  {
   "cell_type": "code",
   "execution_count": 15,
   "id": "e6ed30cb-0733-418f-99e6-2713e163fc7f",
   "metadata": {
    "scrolled": true
   },
   "outputs": [
    {
     "name": "stdout",
     "output_type": "stream",
     "text": [
      "Test Seti Doğruluk Skoru: 0.704903250046966\n",
      "\n",
      "Sınıflandırma Raporu:\n",
      "              precision    recall  f1-score   support\n",
      "\n",
      "           0       0.75      0.77      0.76     16415\n",
      "           1       0.62      0.59      0.61     10200\n",
      "\n",
      "    accuracy                           0.70     26615\n",
      "   macro avg       0.69      0.68      0.69     26615\n",
      "weighted avg       0.70      0.70      0.70     26615\n",
      "\n"
     ]
    }
   ],
   "source": [
    "pipeline = Pipeline([\n",
    "    ('scaler', StandardScaler()), \n",
    "    ('model', XGBClassifier(random_state=42))  \n",
    "])\n",
    "\n",
    "pipeline.fit(x_train,  y_train)\n",
    "\n",
    "y_pred = pipeline.predict(x_test)\n",
    "\n",
    "accuracy = accuracy_score(y_test, y_pred)\n",
    "print(\"Test Seti Doğruluk Skoru:\", accuracy)\n",
    "print(\"\\nSınıflandırma Raporu:\")\n",
    "print(classification_report(y_test, y_pred))\n",
    "\n",
    "# Scaler: Standard Scaler, Model: XGBClassifier\n"
   ]
  },
  {
   "cell_type": "markdown",
   "id": "bfa6c6d0-faca-4e93-a75e-f590747c4502",
   "metadata": {},
   "source": [
    "# CLV Prediction"
   ]
  },
  {
   "cell_type": "code",
   "execution_count": 16,
   "id": "f2afa593-a658-4b29-86e0-f28435057925",
   "metadata": {},
   "outputs": [],
   "source": [
    "CLD = data_new.copy()\n"
   ]
  },
  {
   "cell_type": "code",
   "execution_count": 17,
   "id": "86e428fd-de16-46cc-a576-b750efcacf8c",
   "metadata": {},
   "outputs": [],
   "source": [
    "CLD[\"CLV\"]  = CLD['Monetary']\n",
    "\n",
    "CLD.drop_duplicates(inplace=True)"
   ]
  },
  {
   "cell_type": "code",
   "execution_count": 18,
   "id": "13a62998-780d-4ed7-88bc-bf7e67ad8979",
   "metadata": {
    "scrolled": true
   },
   "outputs": [],
   "source": [
    "features = [ \"Recency\",'Frequency', 'avg_discount', 'branch_count']"
   ]
  },
  {
   "cell_type": "code",
   "execution_count": 19,
   "id": "2aaf3c37-2d3f-4e09-aa2d-4171058c74d6",
   "metadata": {},
   "outputs": [],
   "source": [
    "x = CLD[features]\n",
    "y = CLD[\"CLV\"]"
   ]
  },
  {
   "cell_type": "code",
   "execution_count": 20,
   "id": "d90ec36c-14f1-4fab-ba60-f0d75f1cc48f",
   "metadata": {},
   "outputs": [],
   "source": [
    "x_train, x_test, y_train, y_test = train_test_split(\n",
    "    x, y, test_size=0.2, random_state=SEED ,\n",
    "    shuffle=True\n",
    ")\n"
   ]
  },
  {
   "cell_type": "code",
   "execution_count": 21,
   "id": "1aaae6fe-e6c6-4f93-9457-3d48549929e0",
   "metadata": {},
   "outputs": [
    {
     "name": "stdout",
     "output_type": "stream",
     "text": [
      "Test RMSE: 0.43362311880544013\n",
      "Test R^2 Score: 0.8180214935904436\n",
      "Test Adjusted R^2 Score: 0.8179941386853088\n"
     ]
    }
   ],
   "source": [
    "\n",
    "# 12. Özellik Ölçeklendirme (Özellikle regresyon modellerinde faydalıdır)\n",
    "scaler = StandardScaler()\n",
    "X_train_scaled = scaler.fit_transform(x_train)\n",
    "X_test_scaled = scaler.transform(x_test)\n",
    "\n",
    "# 13. Model Eğitimi: Örneğin RandomForestRegressor\n",
    "rf_reg = RandomForestRegressor(n_estimators=100, random_state=42)\n",
    "rf_reg.fit(x_train, y_train)\n",
    "\n",
    "# 14. Model Değerlendirmesi\n",
    "y_pred = rf_reg.predict(x_test)\n",
    "mse = mean_squared_error(y_test, y_pred)\n",
    "rmse = np.sqrt(mse)\n",
    "r2 = r2_score(y_test, y_pred)\n",
    "\n",
    "\n",
    "# Adjusted R² hesaplanması:\n",
    "n = len(y_test)               # Test setindeki örnek sayısı\n",
    "p = X_test_scaled.shape[1]    # Kullanılan özellik sayısı\n",
    "adjusted_r2 = 1 - (1 - r2) * (n - 1) / (n - p - 1)\n",
    "\n",
    "print(\"Test RMSE:\", rmse)\n",
    "print(\"Test R^2 Score:\", r2)\n",
    "print(\"Test Adjusted R^2 Score:\", adjusted_r2)\n"
   ]
  }
 ],
 "metadata": {
  "kernelspec": {
   "display_name": "Python 3 (ipykernel)",
   "language": "python",
   "name": "python3"
  },
  "language_info": {
   "codemirror_mode": {
    "name": "ipython",
    "version": 3
   },
   "file_extension": ".py",
   "mimetype": "text/x-python",
   "name": "python",
   "nbconvert_exporter": "python",
   "pygments_lexer": "ipython3",
   "version": "3.9.12"
  }
 },
 "nbformat": 4,
 "nbformat_minor": 5
}
